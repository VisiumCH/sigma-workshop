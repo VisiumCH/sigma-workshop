{
 "cells": [
  {
   "cell_type": "markdown",
   "metadata": {},
   "source": [
    "# Agentic fighters"
   ]
  },
  {
   "cell_type": "markdown",
   "metadata": {},
   "source": [
    "## Exercise 0 - Preparing the env\n",
    "\n",
    "Hemos escogido utilizar UV (_no pun intended_) como gestor de paquetes y entornos de Python. Está desarrollado en Rust y funciona increíblemente, con una velocidad que es asombrosa si lo comparamos con pip o con algún otro gestor. Hay alternativas, pero este nos parece que es uno de los que mejor funciona, y está activamente desarrollado.\n",
    "\n",
    "Os dejamos el enlace a la librería, para que investiguéis un poco y veáis si os interesa un cambio!\n",
    "\n",
    "- [UV](https://github.com/astral-sh/uv)\n",
    "- [Ruff](https://github.com/astral-sh/ruff) (otro paquete que sirve como linter y formateador de código, de los mismos desarrolladores)"
   ]
  },
  {
   "cell_type": "markdown",
   "metadata": {},
   "source": [
    "Os lo hemos dejado todo preparado, con las librerías necesarias en los archivos de metadatos generados por UV (_pyproject.toml_ y _uv.lock_).\n",
    "\n",
    "Vosotros solo tenéis que ejecutar este comando: `uv sync`\n",
    "\n",
    "Con ello se descargarán todas las librerías, y deberíamos tener todo listo. Verificadlo comprobando que podemos cargar la librería de LangGraph:"
   ]
  },
  {
   "cell_type": "code",
   "execution_count": 1,
   "metadata": {},
   "outputs": [],
   "source": [
    "from langgraph.graph import StateGraph"
   ]
  }
 ],
 "metadata": {
  "kernelspec": {
   "display_name": ".venv",
   "language": "python",
   "name": "python3"
  },
  "language_info": {
   "codemirror_mode": {
    "name": "ipython",
    "version": 3
   },
   "file_extension": ".py",
   "mimetype": "text/x-python",
   "name": "python",
   "nbconvert_exporter": "python",
   "pygments_lexer": "ipython3",
   "version": "3.11.10"
  }
 },
 "nbformat": 4,
 "nbformat_minor": 2
}
