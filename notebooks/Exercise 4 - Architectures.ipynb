{
 "cells": [
  {
   "cell_type": "markdown",
   "metadata": {},
   "source": [
    "# Agentic fighters"
   ]
  },
  {
   "cell_type": "markdown",
   "metadata": {},
   "source": [
    "## Exercise 4 - Architectures: hands-on\n",
    "\n",
    "Ahora es vuestro turno!\n",
    "\n",
    "Vamos a dejar un buen rato para que podamos aplicar lo que hemos aprendido sobre LangGraph e intentar diseñar algunas de las arquitecturas que pueden ser más útiles. Vamos a por ello!"
   ]
  },
  {
   "cell_type": "markdown",
   "metadata": {},
   "source": [
    "_(Cómo podrías utilizar estas estructuras para hacer una app de Agentic Fighters?)_"
   ]
  },
  {
   "cell_type": "markdown",
   "metadata": {},
   "source": [
    "### Augmented LLM\n",
    "\n",
    "![Augmented LLM](./../images/Augmented_LLM.png)"
   ]
  },
  {
   "cell_type": "code",
   "execution_count": 1,
   "metadata": {},
   "outputs": [],
   "source": [
    "# LLM\n",
    "from langchain_openai import ChatOpenAI\n",
    "llm = ChatOpenAI(model=\"gpt-4o-mini\", temperature=0)"
   ]
  },
  {
   "cell_type": "code",
   "execution_count": 2,
   "metadata": {},
   "outputs": [
    {
     "name": "stdout",
     "output_type": "stream",
     "text": [
      "Calcium CT score and high cholesterol relationship\n",
      "This query is relevant because it seeks to understand the connection between calcium scores from CT scans, which indicate coronary artery disease, and high cholesterol levels, which are a risk factor for heart disease.\n"
     ]
    }
   ],
   "source": [
    "# Schema for structured output\n",
    "from pydantic import BaseModel, Field\n",
    "class SearchQuery(BaseModel):\n",
    "    search_query: str = Field(None, description=\"Query that is optimized web search.\")\n",
    "    justification: str = Field(\n",
    "        None, justification=\"Why this query is relevant to the user's request.\"\n",
    "    )\n",
    "\n",
    "# Augment the LLM with schema for structured output\n",
    "structured_llm = llm.with_structured_output(SearchQuery)\n",
    "\n",
    "# Invoke the augmented LLM\n",
    "output = structured_llm.invoke(\"How does Calcium CT score relate to high cholesterol?\")\n",
    "print(output.search_query)\n",
    "print(output.justification)"
   ]
  },
  {
   "cell_type": "code",
   "execution_count": 3,
   "metadata": {},
   "outputs": [],
   "source": [
    "# Define a tool\n",
    "def multiply(a: int, b: int) -> int:\n",
    "    return a * b\n",
    "\n",
    "# Augment the LLM with tools\n",
    "llm_with_tools = llm.bind_tools([multiply])"
   ]
  },
  {
   "cell_type": "code",
   "execution_count": 4,
   "metadata": {},
   "outputs": [
    {
     "data": {
      "text/plain": [
       "[{'name': 'multiply',\n",
       "  'args': {'a': 2, 'b': 3},\n",
       "  'id': 'call_XUbGzAvoo6EKOc6J9owX5bIw',\n",
       "  'type': 'tool_call'}]"
      ]
     },
     "execution_count": 4,
     "metadata": {},
     "output_type": "execute_result"
    }
   ],
   "source": [
    "# Invoke the LLM with input that triggers the tool call\n",
    "msg = llm_with_tools.invoke(\"What is 2 times 3?\")\n",
    "\n",
    "# Get the tool call\n",
    "msg.tool_calls"
   ]
  },
  {
   "cell_type": "markdown",
   "metadata": {},
   "source": [
    "- Cuándo utilizar esta arquitectura?\n",
    "\n",
    "- Algunos ejemplos donde puede ser útil:"
   ]
  },
  {
   "cell_type": "markdown",
   "metadata": {},
   "source": [
    "-----"
   ]
  },
  {
   "cell_type": "markdown",
   "metadata": {},
   "source": [
    "### Prompt chaining\n",
    "\n",
    "![Prompt chaining](./../images/Prompt_chaining.png)\n",
    "\n",
    "Each LLM call processes the output of the previous one:\n",
    "\n",
    "- E.g., when decomposing a task into multiple LLM calls has benefit.\n",
    "\n",
    "Example:\n",
    "\n",
    "- Take a topic, LLM makes a joke, check the joke, improve it twice"
   ]
  },
  {
   "cell_type": "code",
   "execution_count": 5,
   "metadata": {},
   "outputs": [],
   "source": [
    "from typing_extensions import TypedDict\n",
    "\n",
    "# Graph state\n",
    "class State(TypedDict):\n",
    "    topic: str\n",
    "    joke: str\n",
    "    improved_joke: str\n",
    "    final_joke: str"
   ]
  },
  {
   "cell_type": "code",
   "execution_count": 6,
   "metadata": {},
   "outputs": [],
   "source": [
    "# Nodes\n",
    "def generate_joke(state: State):\n",
    "    \"\"\"First LLM call to generate initial joke\"\"\"\n",
    "\n",
    "    msg = llm.invoke(f\"Write a short joke about {state['topic']}\")\n",
    "    return {\"joke\": msg.content}\n",
    "\n",
    "def improve_joke(state: State):\n",
    "    \"\"\"Second LLM call to improve the joke\"\"\"\n",
    "\n",
    "    msg = llm.invoke(f\"Make this joke funnier by adding wordplay: {state['joke']}\")\n",
    "    return {\"improved_joke\": msg.content}\n",
    "\n",
    "def polish_joke(state: State):\n",
    "    \"\"\"Third LLM call for final polish\"\"\"\n",
    "\n",
    "    msg = llm.invoke(f\"Add a surprising twist to this joke: {state['improved_joke']}\")\n",
    "    return {\"final_joke\": msg.content}\n",
    "\n",
    "# Conditional edge function to check if the joke has a punchline\n",
    "def check_punchline(state: State):\n",
    "    \"\"\"Gate function to check if the joke has a punchline\"\"\"\n",
    "\n",
    "    # Simple check - does the joke contain \"?\" or \"!\"\n",
    "    if \"?\" in state[\"joke\"] or \"!\" in state[\"joke\"]:\n",
    "        return \"Pass\"\n",
    "    return \"Fail\""
   ]
  },
  {
   "cell_type": "code",
   "execution_count": 7,
   "metadata": {},
   "outputs": [
    {
     "data": {
      "image/png": "[encoded data removed]",
      "text/plain": [
       "<IPython.core.display.Image object>"
      ]
     },
     "metadata": {},
     "output_type": "display_data"
    }
   ],
   "source": [
    "from langgraph.graph import StateGraph, START, END\n",
    "from IPython.display import Image, display\n",
    "\n",
    "# Build workflow\n",
    "workflow = StateGraph(State)\n",
    "\n",
    "# Add nodes\n",
    "workflow.add_node(\"generate_joke\", generate_joke)\n",
    "workflow.add_node(\"improve_joke\", improve_joke)\n",
    "workflow.add_node(\"polish_joke\", polish_joke)\n",
    "\n",
    "# Add edges to connect nodes\n",
    "workflow.add_edge(START, \"generate_joke\")\n",
    "workflow.add_conditional_edges(\n",
    "    \"generate_joke\", check_punchline, {\"Pass\": \"improve_joke\", \"Fail\": END}\n",
    ")\n",
    "workflow.add_edge(\"improve_joke\", \"polish_joke\")\n",
    "workflow.add_edge(\"polish_joke\", END)\n",
    "\n",
    "# Compile\n",
    "chain = workflow.compile()\n",
    "\n",
    "# Show workflow\n",
    "display(Image(chain.get_graph().draw_mermaid_png()))"
   ]
  },
  {
   "cell_type": "code",
   "execution_count": 8,
   "metadata": {},
   "outputs": [
    {
     "name": "stdout",
     "output_type": "stream",
     "text": [
      "Initial joke:\n",
      "Why was the cat sitting on the computer? \n",
      "\n",
      "Because it wanted to keep an eye on the mouse!\n",
      "\n",
      "--- --- ---\n",
      "\n",
      "Improved joke:\n",
      "Why was the cat sitting on the computer? \n",
      "\n",
      "Because it wanted to keep an eye on the mouse and make sure it didn’t click away!\n",
      "\n",
      "--- --- ---\n",
      "\n",
      "Final joke:\n",
      "Why was the cat sitting on the computer? \n",
      "\n",
      "Because it wanted to keep an eye on the mouse and make sure it didn’t click away! But little did it know, the mouse was actually a hacker planning to steal all the cat videos!\n"
     ]
    }
   ],
   "source": [
    "state = chain.invoke({\"topic\": \"cats\"})\n",
    "print(\"Initial joke:\")\n",
    "print(state[\"joke\"])\n",
    "print(\"\\n--- --- ---\\n\")\n",
    "if \"improved_joke\" in state:\n",
    "    print(\"Improved joke:\")\n",
    "    print(state[\"improved_joke\"])\n",
    "    print(\"\\n--- --- ---\\n\")\n",
    "\n",
    "    print(\"Final joke:\")\n",
    "    print(state[\"final_joke\"])\n",
    "else:\n",
    "    print(\"Joke failed quality gate - no punchline detected!\")"
   ]
  },
  {
   "cell_type": "markdown",
   "metadata": {},
   "source": [
    "-----"
   ]
  },
  {
   "cell_type": "markdown",
   "metadata": {},
   "source": [
    "### Routing\n",
    "\n",
    "![Routing](./../images/Routing.png)\n",
    "\n",
    "Routing classifies an input and directs it to a specialized followup task.\n",
    "\n",
    "- E.g., when routing a question to different retrieval systems.\n",
    "\n",
    "Example:\n",
    "\n",
    "- Route an input between joke, story, and poem"
   ]
  },
  {
   "cell_type": "code",
   "execution_count": 9,
   "metadata": {},
   "outputs": [],
   "source": [
    "from typing_extensions import Literal\n",
    "\n",
    "# Schema for structured output to use as routing logic\n",
    "class Route(BaseModel):\n",
    "    step: Literal[\"poem\", \"story\", \"joke\"] = Field(\n",
    "        None, description=\"The next step in the routing process\"\n",
    "    )\n",
    "\n",
    "# Augment the LLM with schema for structured output\n",
    "router = llm.with_structured_output(Route)"
   ]
  },
  {
   "cell_type": "code",
   "execution_count": 10,
   "metadata": {},
   "outputs": [],
   "source": [
    "# State\n",
    "class State(TypedDict):\n",
    "    input: str\n",
    "    decision: str\n",
    "    output: str"
   ]
  },
  {
   "cell_type": "code",
   "execution_count": 11,
   "metadata": {},
   "outputs": [],
   "source": [
    "from langchain_core.messages import HumanMessage, SystemMessage\n",
    "\n",
    "# Nodes\n",
    "def llm_call_1(state: State):\n",
    "    \"\"\"Write a story\"\"\"\n",
    "\n",
    "    print(\"Write a story\")\n",
    "    result = llm.invoke(state[\"input\"])\n",
    "    return {\"output\": result.content}\n",
    "\n",
    "def llm_call_2(state: State):\n",
    "    \"\"\"Write a joke\"\"\"\n",
    "\n",
    "    print(\"Write a joke\")\n",
    "    result = llm.invoke(state[\"input\"])\n",
    "    return {\"output\": result.content}\n",
    "\n",
    "def llm_call_3(state: State):\n",
    "    \"\"\"Write a poem\"\"\"\n",
    "\n",
    "    print(\"Write a poem\")\n",
    "    result = llm.invoke(state[\"input\"])\n",
    "    return {\"output\": result.content}\n",
    "\n",
    "def llm_call_router(state: State):\n",
    "    \"\"\"Route the input to the appropriate node\"\"\"\n",
    "\n",
    "    # Run the augmented LLM with structured output to serve as routing logic\n",
    "    decision = router.invoke(\n",
    "        [\n",
    "            SystemMessage(\n",
    "                content=\"Route the input to story, joke, or poem based on the user's request.\"\n",
    "            ),\n",
    "            HumanMessage(content=state[\"input\"]),\n",
    "        ]\n",
    "    )\n",
    "\n",
    "    return {\"decision\": decision.step}\n",
    "\n",
    "# Conditional edge function to route to the appropriate node\n",
    "def route_decision(state: State):\n",
    "    # Return the node name you want to visit next\n",
    "    if state[\"decision\"] == \"story\":\n",
    "        return \"llm_call_1\"\n",
    "    elif state[\"decision\"] == \"joke\":\n",
    "        return \"llm_call_2\"\n",
    "    elif state[\"decision\"] == \"poem\":\n",
    "        return \"llm_call_3\""
   ]
  },
  {
   "cell_type": "code",
   "execution_count": 12,
   "metadata": {},
   "outputs": [
    {
     "data": {
      "image/png": "[encoded data removed]",
      "text/plain": [
       "<IPython.core.display.Image object>"
      ]
     },
     "metadata": {},
     "output_type": "display_data"
    }
   ],
   "source": [
    "# Build workflow\n",
    "router_builder = StateGraph(State)\n",
    "\n",
    "# Add nodes\n",
    "router_builder.add_node(\"llm_call_1\", llm_call_1)\n",
    "router_builder.add_node(\"llm_call_2\", llm_call_2)\n",
    "router_builder.add_node(\"llm_call_3\", llm_call_3)\n",
    "router_builder.add_node(\"llm_call_router\", llm_call_router)\n",
    "\n",
    "# Add edges to connect nodes\n",
    "router_builder.add_edge(START, \"llm_call_router\")\n",
    "router_builder.add_conditional_edges(\n",
    "    \"llm_call_router\",\n",
    "    route_decision,\n",
    "    {  # Name returned by route_decision : Name of next node to visit\n",
    "        \"llm_call_1\": \"llm_call_1\",\n",
    "        \"llm_call_2\": \"llm_call_2\",\n",
    "        \"llm_call_3\": \"llm_call_3\",\n",
    "    },\n",
    ")\n",
    "router_builder.add_edge(\"llm_call_1\", END)\n",
    "router_builder.add_edge(\"llm_call_2\", END)\n",
    "router_builder.add_edge(\"llm_call_3\", END)\n",
    "\n",
    "# Compile workflow\n",
    "router_workflow = router_builder.compile()\n",
    "\n",
    "# Show the workflow\n",
    "display(Image(router_workflow.get_graph().draw_mermaid_png()))"
   ]
  },
  {
   "cell_type": "code",
   "execution_count": 13,
   "metadata": {},
   "outputs": [
    {
     "name": "stdout",
     "output_type": "stream",
     "text": [
      "Write a joke\n",
      "Why was the cat sitting on the computer?\n",
      "\n",
      "Because it wanted to keep an eye on the mouse!\n"
     ]
    }
   ],
   "source": [
    "state = router_workflow.invoke({\"input\": \"Write me a joke about cats\"})\n",
    "print(state[\"output\"])"
   ]
  },
  {
   "cell_type": "markdown",
   "metadata": {},
   "source": [
    "- Cuándo utilizar esta arquitectura?\n",
    "\n",
    "- Algunos ejemplos donde puede ser útil:"
   ]
  },
  {
   "cell_type": "markdown",
   "metadata": {},
   "source": [
    "-----"
   ]
  },
  {
   "cell_type": "markdown",
   "metadata": {},
   "source": [
    "### Parallelization\n",
    "\n",
    "![Parallelization](./../images/Parallelization.png)\n",
    "\n",
    "Sub-tasks can be parallelized.\n",
    "\n",
    "- E.g., when you want multi-perspectives for one task  multi-query for RAG.\n",
    "- E.g., when independent tasks can be performed w/ different prompts.\n",
    "\n",
    "Example:\n",
    "\n",
    "- Take a topic, create a joke, story, and poem"
   ]
  },
  {
   "cell_type": "code",
   "execution_count": 14,
   "metadata": {},
   "outputs": [],
   "source": [
    "class State(TypedDict):\n",
    "    topic: str\n",
    "    joke: str\n",
    "    story: str\n",
    "    poem: str\n",
    "    combined_output: str"
   ]
  },
  {
   "cell_type": "code",
   "execution_count": 15,
   "metadata": {},
   "outputs": [],
   "source": [
    "# Nodes\n",
    "def call_llm_1(state: State):\n",
    "    \"\"\"First LLM call to generate initial joke\"\"\"\n",
    "\n",
    "    msg = llm.invoke(f\"Write a joke about {state['topic']}\")\n",
    "    return {\"joke\": msg.content}\n",
    "\n",
    "def call_llm_2(state: State):\n",
    "    \"\"\"Second LLM call to generate story\"\"\"\n",
    "\n",
    "    msg = llm.invoke(f\"Write a story about {state['topic']}\")\n",
    "    return {\"story\": msg.content}\n",
    "\n",
    "def call_llm_3(state: State):\n",
    "    \"\"\"Third LLM call to generate poem\"\"\"\n",
    "\n",
    "    msg = llm.invoke(f\"Write a poem about {state['topic']}\")\n",
    "    return {\"poem\": msg.content}\n",
    "\n",
    "def aggregator(state: State):\n",
    "    \"\"\"Combine the joke and story into a single output\"\"\"\n",
    "\n",
    "    combined = f\"Here's a story, joke, and poem about {state['topic']}!\\n\\n\"\n",
    "    combined += f\"STORY:\\n{state['story']}\\n\\n\"\n",
    "    combined += f\"JOKE:\\n{state['joke']}\\n\\n\"\n",
    "    combined += f\"POEM:\\n{state['poem']}\"\n",
    "    return {\"combined_output\": combined}"
   ]
  },
  {
   "cell_type": "code",
   "execution_count": 16,
   "metadata": {},
   "outputs": [
    {
     "data": {
      "image/png": "[encoded data removed]",
      "text/plain": [
       "<IPython.core.display.Image object>"
      ]
     },
     "metadata": {},
     "output_type": "display_data"
    }
   ],
   "source": [
    "# Build workflow\n",
    "parallel_builder = StateGraph(State)\n",
    "\n",
    "# Add nodes\n",
    "parallel_builder.add_node(\"call_llm_1\", call_llm_1)\n",
    "parallel_builder.add_node(\"call_llm_2\", call_llm_2)\n",
    "parallel_builder.add_node(\"call_llm_3\", call_llm_3)\n",
    "parallel_builder.add_node(\"aggregator\", aggregator)\n",
    "\n",
    "# Add edges to connect nodes\n",
    "parallel_builder.add_edge(START, \"call_llm_1\")\n",
    "parallel_builder.add_edge(START, \"call_llm_2\")\n",
    "parallel_builder.add_edge(START, \"call_llm_3\")\n",
    "parallel_builder.add_edge(\"call_llm_1\", \"aggregator\")\n",
    "parallel_builder.add_edge(\"call_llm_2\", \"aggregator\")\n",
    "parallel_builder.add_edge(\"call_llm_3\", \"aggregator\")\n",
    "parallel_builder.add_edge(\"aggregator\", END)\n",
    "parallel_workflow = parallel_builder.compile()\n",
    "\n",
    "# Show workflow\n",
    "display(Image(parallel_workflow.get_graph().draw_mermaid_png()))"
   ]
  },
  {
   "cell_type": "code",
   "execution_count": 17,
   "metadata": {},
   "outputs": [
    {
     "name": "stdout",
     "output_type": "stream",
     "text": [
      "Here's a story, joke, and poem about cats!\n",
      "\n",
      "STORY:\n",
      "**The Secret Society of Whiskers**\n",
      "\n",
      "In the quaint little town of Willowbrook, where the streets were lined with cobblestones and the air was filled with the scent of blooming lilacs, there existed a secret society known only to the feline residents. This society, known as the \"Whiskers,\" was composed of the town's most clever and adventurous cats, each with their own unique talents.\n",
      "\n",
      "At the heart of this society was a sleek black cat named Midnight. With her piercing green eyes and a coat that shimmered like the night sky, Midnight was the leader of the Whiskers. She was known for her intelligence and bravery, often leading her fellow cats on daring escapades. Her best friend, a fluffy orange tabby named Ginger, was the society's strategist, always coming up with clever plans to outsmart the humans and other animals in town.\n",
      "\n",
      "One sunny afternoon, as the cats lounged in the sun-drenched alley behind the old bakery, Midnight gathered her friends for an important meeting. \"Listen up, everyone! I’ve heard whispers of a treasure hidden in the old abandoned mansion at the edge of town. It’s said to be filled with the finest catnip and the most luxurious scratching posts. We must find it!\"\n",
      "\n",
      "The cats buzzed with excitement. Whiskers, a mischievous gray cat with a knack for sneaking into places unnoticed, raised his paw. \"But how do we get past the humans? They’ve been keeping a close eye on that place ever since it was abandoned.\"\n",
      "\n",
      "Ginger chimed in, \"I have a plan! We can create a diversion. While some of us distract the humans, the rest can sneak inside and search for the treasure.\"\n",
      "\n",
      "With the plan set, the Whiskers sprang into action. That evening, as the sun dipped below the horizon, casting a golden glow over Willowbrook, the cats gathered at the mansion. Midnight led the charge, her heart racing with excitement. \n",
      "\n",
      "As they approached the creaky old house, they noticed a group of humans gathered outside, chatting and laughing. Whiskers, with his stealthy skills, darted out from behind a bush and knocked over a trash can, sending garbage flying everywhere. The humans gasped and rushed to investigate the commotion.\n",
      "\n",
      "\"Now’s our chance!\" Midnight whispered, and the cats slipped through the open door, their paws silent on the dusty floorboards.\n",
      "\n",
      "Inside, the mansion was dark and filled with cobwebs, but the air was thick with the scent of adventure. They explored room after room, searching for the treasure. Finally, in a forgotten corner of the attic, they stumbled upon an old trunk. Midnight’s heart raced as she pawed at the latch, and with a little effort, it sprang open.\n",
      "\n",
      "Inside, they found not only the finest catnip they had ever seen but also a collection of beautiful toys—feather wands, shiny balls, and even a plush mouse that squeaked when bitten. The cats cheered in delight, their eyes sparkling with joy.\n",
      "\n",
      "As they celebrated their find, Midnight noticed a dusty old mirror leaning against the wall. Curious, she approached it and saw her reflection, but something strange happened. The mirror shimmered, and suddenly, she was transported to a magical realm filled with vibrant colors and enchanting sounds. \n",
      "\n",
      "\"Midnight! Where are you?\" Ginger called, looking around in confusion.\n",
      "\n",
      "\"I’m here! You have to see this!\" Midnight shouted, her voice echoing in the magical space. One by one, her friends joined her, and they found themselves in a world where catnip grew in abundance, and every corner was filled with toys and treats.\n",
      "\n",
      "The Whiskers spent what felt like hours exploring this new land, playing and frolicking without a care in the world. But as the sun began to rise, Midnight knew it was time to return home. With a heavy heart, she led her friends back to the mirror, and they stepped through together.\n",
      "\n",
      "Back in the attic, the trunk was still open, and the treasure lay before them. They filled their paws with catnip and toys, knowing they could always return to the magical realm whenever they wanted.\n",
      "\n",
      "From that day on, the Whiskers became legends in Willowbrook, not just for their daring adventures but for the bond they shared. They learned that true treasure wasn’t just about the catnip or toys; it was the friendship and memories they created together.\n",
      "\n",
      "And so, under the watchful gaze of the moon, the secret society of Whiskers continued to thrive, embarking on new adventures and discovering the magic that lay both in their hearts and the world around them.\n",
      "\n",
      "JOKE:\n",
      "Why was the cat sitting on the computer?\n",
      "\n",
      "Because it wanted to keep an eye on the mouse!\n",
      "\n",
      "POEM:\n",
      "In sunlit corners, shadows play,  \n",
      "With whispers soft, they greet the day.  \n",
      "A flick of tail, a gentle purr,  \n",
      "In every heart, they softly stir.  \n",
      "\n",
      "With eyes like moons, so bright, so wise,  \n",
      "They watch the world through knowing eyes.  \n",
      "A leap, a bound, a graceful dance,  \n",
      "In every moment, they take a chance.  \n",
      "\n",
      "On windowsills, they bask in light,  \n",
      "Chasing dreams in the quiet night.  \n",
      "A rustle here, a sudden dash,  \n",
      "In playful leaps, they make a splash.  \n",
      "\n",
      "Their velvet paws on silent floors,  \n",
      "They roam like whispers, through open doors.  \n",
      "A flickering shadow, a fleeting glance,  \n",
      "In their presence, we find romance.  \n",
      "\n",
      "With every meow, a story told,  \n",
      "Of ancient lands and hearts of gold.  \n",
      "They curl beside us, warm and near,  \n",
      "In their soft gaze, we lose our fear.  \n",
      "\n",
      "Oh, creatures of mystery, grace, and charm,  \n",
      "In your gentle ways, we find our calm.  \n",
      "For in the world, both wild and free,  \n",
      "A cat’s sweet love is a symphony.  \n"
     ]
    }
   ],
   "source": [
    "state = parallel_workflow.invoke({\"topic\": \"cats\"})\n",
    "print(state[\"combined_output\"])"
   ]
  },
  {
   "cell_type": "markdown",
   "metadata": {},
   "source": [
    "- Cuándo utilizar esta arquitectura?\n",
    "\n",
    "- Algunos ejemplos donde puede ser útil:"
   ]
  },
  {
   "cell_type": "markdown",
   "metadata": {},
   "source": [
    "-----"
   ]
  },
  {
   "cell_type": "markdown",
   "metadata": {},
   "source": [
    "### Orchestrator-workers\n",
    "\n",
    "![Orchestrator-workers](./../images/Orchestrator-workers.png)\n",
    "\n",
    "Orchestrator breaks down a task and delegates each sub-task to workers.\n",
    "\n",
    "- E.g., planning a report where LLM can determine the number of sections.\n",
    "\n",
    "Example\n",
    "\n",
    "- Take a topic, plan a report of section, have each worker write a section"
   ]
  },
  {
   "cell_type": "code",
   "execution_count": 18,
   "metadata": {},
   "outputs": [],
   "source": [
    "from typing import Annotated, List\n",
    "import operator\n",
    "\n",
    "# Schema for structured output to use in planning\n",
    "class Section(BaseModel):\n",
    "    name: str = Field(\n",
    "        description=\"Name for this section of the report.\",\n",
    "    )\n",
    "    description: str = Field(\n",
    "        description=\"Brief overview of the main topics and concepts to be covered in this section.\",\n",
    "    )\n",
    "\n",
    "class Sections(BaseModel):\n",
    "    sections: List[Section] = Field(\n",
    "        description=\"Sections of the report.\",\n",
    "    )\n",
    "\n",
    "# Augment the LLM with schema for structured output\n",
    "planner = llm.with_structured_output(Sections)"
   ]
  },
  {
   "cell_type": "code",
   "execution_count": 19,
   "metadata": {},
   "outputs": [],
   "source": [
    "# Graph state\n",
    "class State(TypedDict):\n",
    "    topic: str  # Report topic\n",
    "    sections: list[Section]  # List of report sections\n",
    "    completed_sections: Annotated[\n",
    "        list, operator.add\n",
    "    ]  # All workers write to this key in parallel\n",
    "    final_report: str  # Final report\n",
    "\n",
    "# Worker state\n",
    "class WorkerState(TypedDict):\n",
    "    section: Section\n",
    "    completed_sections: Annotated[list, operator.add]"
   ]
  },
  {
   "cell_type": "code",
   "execution_count": 20,
   "metadata": {},
   "outputs": [],
   "source": [
    "# Nodes\n",
    "def orchestrator(state: State):\n",
    "    \"\"\"Orchestrator that generates a plan for the report\"\"\"\n",
    "\n",
    "    # Generate queries\n",
    "    report_sections = planner.invoke(\n",
    "        [\n",
    "            SystemMessage(content=\"Generate a plan for the report.\"),\n",
    "            HumanMessage(content=f\"Here is the report topic: {state['topic']}\"),\n",
    "        ]\n",
    "    )\n",
    "\n",
    "    return {\"sections\": report_sections.sections}\n",
    "\n",
    "def llm_call(state: WorkerState):\n",
    "    \"\"\"Worker writes a section of the report\"\"\"\n",
    "\n",
    "    # Generate section\n",
    "    section = llm.invoke(\n",
    "        [\n",
    "            SystemMessage(content=\"Write a report section.\"),\n",
    "            HumanMessage(\n",
    "                content=f\"Here is the section name: {state['section'].name} and description: {state['section'].description}\"\n",
    "            ),\n",
    "        ]\n",
    "    )\n",
    "\n",
    "    # Write the updated section to completed sections\n",
    "    return {\"completed_sections\": [section.content]}\n",
    "\n",
    "def synthesizer(state: State):\n",
    "    \"\"\"Synthesize full report from sections\"\"\"\n",
    "\n",
    "    # List of completed sections\n",
    "    completed_sections = state[\"completed_sections\"]\n",
    "\n",
    "    # Format completed section to str to use as context for final sections\n",
    "    completed_report_sections = \"\\n\\n---\\n\\n\".join(completed_sections)\n",
    "\n",
    "    return {\"final_report\": completed_report_sections}\n",
    "\n",
    "# Conditional edge function to create llm_call workers that each write a section of the report\n",
    "def assign_workers(state: State):\n",
    "    \"\"\"Assign a worker to each section in the plan\"\"\"\n",
    "\n",
    "    # Kick off section writing in parallel via Send() API\n",
    "    return [Send(\"llm_call\", {\"section\": s}) for s in state[\"sections\"]]"
   ]
  },
  {
   "cell_type": "code",
   "execution_count": 21,
   "metadata": {},
   "outputs": [
    {
     "data": {
      "image/png": "[encoded data removed]",
      "text/plain": [
       "<IPython.core.display.Image object>"
      ]
     },
     "metadata": {},
     "output_type": "display_data"
    }
   ],
   "source": [
    "from langgraph.constants import Send\n",
    "\n",
    "# Build workflow\n",
    "orchestrator_worker_builder = StateGraph(State)\n",
    "\n",
    "# Add the nodes\n",
    "orchestrator_worker_builder.add_node(\"orchestrator\", orchestrator)\n",
    "orchestrator_worker_builder.add_node(\"llm_call\", llm_call)\n",
    "orchestrator_worker_builder.add_node(\"synthesizer\", synthesizer)\n",
    "\n",
    "# Add edges to connect nodes\n",
    "orchestrator_worker_builder.add_edge(START, \"orchestrator\")\n",
    "orchestrator_worker_builder.add_conditional_edges(\n",
    "    \"orchestrator\", assign_workers, [\"llm_call\"]\n",
    ")\n",
    "orchestrator_worker_builder.add_edge(\"llm_call\", \"synthesizer\")\n",
    "orchestrator_worker_builder.add_edge(\"synthesizer\", END)\n",
    "\n",
    "# Compile the workflow\n",
    "orchestrator_worker = orchestrator_worker_builder.compile()\n",
    "\n",
    "# Show the workflow\n",
    "display(Image(orchestrator_worker.get_graph().draw_mermaid_png()))"
   ]
  },
  {
   "cell_type": "code",
   "execution_count": 22,
   "metadata": {},
   "outputs": [
    {
     "data": {
      "text/markdown": [
       "### Introduction to LLM Scaling Laws\n",
       "\n",
       "Large Language Models (LLMs) have revolutionized the field of artificial intelligence (AI) by demonstrating remarkable capabilities in natural language understanding and generation. As these models have grown in size and complexity, researchers have observed certain empirical relationships that govern their performance relative to their scale. These relationships are commonly referred to as LLM scaling laws. \n",
       "\n",
       "Scaling laws describe how various performance metrics—such as accuracy, fluency, and generalization—improve as a function of model size, dataset size, and training duration. Specifically, they provide insights into how increasing the number of parameters in a model or the volume of training data can lead to diminishing returns in performance. Understanding these laws is crucial for optimizing the design and deployment of LLMs, as they inform decisions regarding resource allocation, model architecture, and training strategies.\n",
       "\n",
       "The significance of LLM scaling laws extends beyond mere performance metrics; they offer a framework for predicting the capabilities of future models based on current trends. This predictive power is invaluable for researchers and practitioners in the AI community, as it allows for more informed planning and investment in AI technologies. Moreover, scaling laws can help identify the thresholds at which additional resources yield minimal improvements, guiding the development of more efficient models.\n",
       "\n",
       "The motivation behind studying LLM scaling laws stems from the rapid advancements in AI and the increasing demand for more capable and efficient language models. As organizations and researchers strive to push the boundaries of what LLMs can achieve, understanding the underlying principles of scaling becomes essential. By elucidating the relationship between model size, data, and performance, scaling laws not only enhance our theoretical understanding of LLMs but also pave the way for practical applications that can benefit society at large.\n",
       "\n",
       "In summary, LLM scaling laws are a critical area of study within the AI landscape, providing insights that drive the development of more powerful and efficient language models. As the field continues to evolve, a deeper understanding of these laws will be instrumental in shaping the future of artificial intelligence.\n",
       "\n",
       "---\n",
       "\n",
       "### Historical Context and Description\n",
       "\n",
       "The evolution of language models has been a remarkable journey marked by significant milestones and breakthroughs that have shaped the current landscape of natural language processing (NLP). The development of language models can be traced back to the early days of computational linguistics, where rule-based systems dominated the field. These systems relied heavily on handcrafted rules and linguistic knowledge, which limited their scalability and adaptability.\n",
       "\n",
       "#### Early Language Models\n",
       "\n",
       "In the 1980s and 1990s, statistical methods began to emerge, leading to the development of n-gram models. These models utilized the probabilities of word sequences based on their frequency in a given corpus, allowing for a more data-driven approach to language processing. However, n-gram models struggled with long-range dependencies and required extensive amounts of data to perform effectively.\n",
       "\n",
       "#### The Rise of Neural Networks\n",
       "\n",
       "The introduction of neural networks in the 2000s marked a pivotal shift in language modeling. The advent of recurrent neural networks (RNNs) allowed for the processing of sequences of varying lengths, enabling models to capture contextual information more effectively. Long Short-Term Memory (LSTM) networks, introduced in 1997, further improved the ability to retain information over longer sequences, addressing some of the limitations of traditional RNNs.\n",
       "\n",
       "#### Breakthroughs in Pre-training and Transfer Learning\n",
       "\n",
       "The landscape of language models underwent another transformation with the introduction of pre-training and transfer learning techniques. In 2018, the release of the BERT (Bidirectional Encoder Representations from Transformers) model by Google marked a significant breakthrough. BERT utilized a transformer architecture, which allowed for bidirectional context understanding and significantly improved performance on various NLP tasks. This model demonstrated the effectiveness of pre-training on large corpora followed by fine-tuning on specific tasks, setting a new standard in the field.\n",
       "\n",
       "#### The Emergence of Large Language Models (LLMs)\n",
       "\n",
       "The development of large language models (LLMs) can be traced to the scaling of transformer architectures and the availability of vast amounts of data and computational resources. OpenAI's GPT-2, released in 2019, showcased the potential of scaling up model size and training data, achieving impressive results in text generation and comprehension. This was followed by the release of GPT-3 in 2020, which further pushed the boundaries with 175 billion parameters, demonstrating the power of LLMs in generating coherent and contextually relevant text across a wide range of topics.\n",
       "\n",
       "#### Understanding Scaling Laws\n",
       "\n",
       "As researchers explored the capabilities of LLMs, they began to uncover the principles of scaling laws, which describe how model performance improves with increased size, data, and training time. These laws have become a foundational aspect of modern NLP research, guiding the development of even larger models and informing best practices for training and deployment. The insights gained from scaling laws have led to a deeper understanding of the trade-offs between model complexity, resource requirements, and performance, shaping the future of language modeling.\n",
       "\n",
       "In summary, the historical context of language models reveals a trajectory from rule-based systems to sophisticated neural architectures, culminating in the development of LLMs. Key milestones, including the advent of statistical methods, the rise of neural networks, and the breakthroughs in pre-training and scaling, have collectively contributed to the current understanding of language models and their capabilities. As the field continues to evolve, the lessons learned from this history will undoubtedly inform future advancements in natural language processing.\n",
       "\n",
       "---\n",
       "\n",
       "### Mathematical Foundations of Scaling Laws\n",
       "\n",
       "Scaling laws are fundamental principles that describe how various performance metrics of models, particularly in machine learning and artificial intelligence, change with respect to the size of the model and the amount of data used for training. Understanding these laws is crucial for optimizing model performance and resource allocation in computational tasks. This section delves into the mathematical principles that govern these relationships, providing a framework for analyzing how model size and data size interact to influence performance outcomes.\n",
       "\n",
       "#### 1. Definitions and Key Concepts\n",
       "\n",
       "At the core of scaling laws is the relationship between three primary variables: model size (M), data size (D), and performance metrics (P). Performance metrics can include accuracy, loss, or other relevant indicators of model effectiveness. The scaling law can often be expressed in a functional form, such as:\n",
       "\n",
       "\\[ P = f(M, D) \\]\n",
       "\n",
       "where \\( f \\) is a function that captures the interaction between model size and data size. \n",
       "\n",
       "#### 2. Power Law Relationships\n",
       "\n",
       "One of the most common forms of scaling laws observed in practice is the power law relationship, which can be expressed as:\n",
       "\n",
       "\\[ P \\propto M^a \\cdot D^b \\]\n",
       "\n",
       "where \\( a \\) and \\( b \\) are constants that depend on the specific task and model architecture. This relationship suggests that performance improves multiplicatively with increases in model size and data size, highlighting the importance of both factors in achieving optimal results.\n",
       "\n",
       "#### 3. Dimensional Analysis\n",
       "\n",
       "Dimensional analysis provides a powerful tool for understanding scaling laws. By analyzing the dimensions of the variables involved, we can derive relationships that are invariant under changes in scale. For instance, if we consider the dimensions of model parameters, data points, and performance metrics, we can establish a framework that predicts how changes in one dimension affect the others.\n",
       "\n",
       "#### 4. Empirical Observations\n",
       "\n",
       "Empirical studies have shown that scaling laws often exhibit diminishing returns. As model size and data size increase, the incremental gains in performance tend to decrease. This phenomenon can be mathematically modeled using logarithmic functions, leading to formulations such as:\n",
       "\n",
       "\\[ \\log(P) = c_1 \\log(M) + c_2 \\log(D) + c_3 \\]\n",
       "\n",
       "where \\( c_1 \\) and \\( c_2 \\) are coefficients that reflect the sensitivity of performance to changes in model and data size, respectively, and \\( c_3 \\) is a constant.\n",
       "\n",
       "#### 5. Implications for Model Design\n",
       "\n",
       "Understanding the mathematical foundations of scaling laws has significant implications for model design and training strategies. It informs decisions regarding the trade-offs between increasing model complexity and the availability of training data. For instance, in scenarios where data is scarce, it may be more beneficial to optimize model architecture rather than simply increasing the number of parameters.\n",
       "\n",
       "#### 6. Conclusion\n",
       "\n",
       "The exploration of scaling laws through mathematical principles provides valuable insights into the interplay between model size, data size, and performance metrics. By leveraging these insights, practitioners can make informed decisions that enhance model efficiency and effectiveness, ultimately leading to better outcomes in various applications of machine learning and artificial intelligence. Further research into the nuances of these relationships will continue to refine our understanding and application of scaling laws in practice.\n",
       "\n",
       "---\n",
       "\n",
       "### Empirical Evidence and Case Studies\n",
       "\n",
       "The exploration of scaling laws in large language models (LLMs) has garnered significant attention in recent years, particularly with the advent of models such as OpenAI's GPT-3. Empirical studies and experiments have provided robust evidence supporting the notion that as the size of LLMs increases—whether in terms of parameters, training data, or computational resources—their performance on various natural language processing (NLP) tasks tends to improve in a predictable manner.\n",
       "\n",
       "One of the most notable studies in this domain is the work conducted by Kaplan et al. (2020), which systematically analyzed the relationship between model size, dataset size, and performance across a range of benchmarks. Their findings indicated that larger models consistently outperformed smaller counterparts, with performance improvements following a power-law distribution. This scaling behavior was particularly evident in tasks such as language modeling, text completion, and question answering, where larger models demonstrated enhanced capabilities in generating coherent and contextually relevant text.\n",
       "\n",
       "In the case of GPT-3, which boasts 175 billion parameters, empirical evidence highlights its remarkable ability to perform few-shot and zero-shot learning. Brown et al. (2020) showcased that GPT-3 could generate high-quality text outputs across diverse tasks without the need for task-specific fine-tuning. This capability is attributed to the model's extensive training on a diverse dataset, which allows it to generalize effectively from limited examples. The performance of GPT-3 on benchmarks such as the SuperGLUE and the LAMBADA dataset further illustrates the advantages of scaling, as it achieved state-of-the-art results that surpassed those of its predecessors.\n",
       "\n",
       "Moreover, case studies involving the application of GPT-3 in real-world scenarios have provided additional insights into the practical implications of scaling laws. For instance, in creative writing, GPT-3 has been employed to assist authors in generating story ideas, drafting content, and even composing poetry. The model's ability to produce human-like text has led to discussions about its potential impact on industries such as publishing, marketing, and customer service.\n",
       "\n",
       "Another empirical investigation by Wei et al. (2021) examined the effects of scaling on model robustness and generalization. Their research indicated that larger models not only performed better on standard benchmarks but also exhibited improved resilience to adversarial inputs and noise. This finding underscores the importance of scaling in enhancing the reliability of LLMs in practical applications.\n",
       "\n",
       "In summary, the empirical evidence and case studies surrounding scaling laws in LLMs, particularly with models like GPT-3, demonstrate a clear trend: as models scale in size and complexity, their performance on a wide array of tasks improves significantly. This relationship not only reinforces the theoretical underpinnings of scaling laws but also highlights the transformative potential of LLMs in various domains, paving the way for future advancements in artificial intelligence.\n",
       "\n",
       "---\n",
       "\n",
       "### Implications for Model Development\n",
       "\n",
       "The emergence of scaling laws in the development of large language models (LLMs) has profound implications for their design, training, and overall resource allocation. Scaling laws, which describe the relationship between model size, data quantity, and performance, provide a framework for understanding how incremental increases in these dimensions can lead to significant improvements in model capabilities. This section discusses the key considerations for model development in light of these scaling laws.\n",
       "\n",
       "#### 1. Model Architecture and Size\n",
       "\n",
       "Scaling laws suggest that larger models tend to perform better, but the relationship is not linear. As such, model architects must carefully consider the trade-offs between model size and computational efficiency. While increasing the number of parameters can enhance performance, it also demands exponentially more computational resources and energy. Therefore, developers should explore innovative architectures that maximize performance without a proportional increase in size. Techniques such as model distillation, pruning, and quantization can help maintain high performance while reducing resource requirements.\n",
       "\n",
       "#### 2. Data Utilization\n",
       "\n",
       "The effectiveness of scaling laws is heavily dependent on the quality and quantity of training data. As models scale, they require vast amounts of diverse and high-quality data to realize their full potential. This necessitates a strategic approach to data collection and curation, ensuring that the datasets used for training are representative and comprehensive. Additionally, leveraging synthetic data generation and transfer learning can help mitigate data scarcity issues, allowing for more efficient training processes.\n",
       "\n",
       "#### 3. Resource Allocation\n",
       "\n",
       "Given the substantial computational resources required for training large models, organizations must adopt a strategic approach to resource allocation. This includes investing in high-performance computing infrastructure, optimizing cloud resource usage, and considering the environmental impact of large-scale training. Organizations should also evaluate the cost-benefit ratio of scaling up models versus optimizing existing ones, as smaller, well-tuned models can sometimes outperform larger counterparts in specific applications.\n",
       "\n",
       "#### 4. Optimization Techniques\n",
       "\n",
       "As models grow in size, the complexity of training them increases, necessitating the development of advanced optimization techniques. Researchers should focus on improving training algorithms to enhance convergence rates and stability. Techniques such as mixed-precision training, gradient accumulation, and adaptive learning rates can significantly reduce training time and resource consumption. Furthermore, exploring distributed training methods can help manage the computational load across multiple devices, making it feasible to train larger models efficiently.\n",
       "\n",
       "#### 5. Ethical and Societal Considerations\n",
       "\n",
       "The implications of scaling laws extend beyond technical considerations; they also raise ethical and societal questions. As LLMs become more powerful, the potential for misuse increases, necessitating a focus on responsible AI development. Developers must prioritize transparency, fairness, and accountability in their models, ensuring that scaling efforts do not exacerbate existing biases or lead to harmful outcomes. Engaging with stakeholders and incorporating ethical guidelines into the model development process is essential for fostering trust and ensuring the positive impact of LLMs on society.\n",
       "\n",
       "### Conclusion\n",
       "\n",
       "In summary, scaling laws play a critical role in shaping the future of LLM development. By understanding and leveraging these laws, researchers and developers can make informed decisions regarding model architecture, data utilization, resource allocation, optimization techniques, and ethical considerations. As the field continues to evolve, a balanced approach that prioritizes both performance and responsibility will be essential for the sustainable advancement of large language models.\n",
       "\n",
       "---\n",
       "\n",
       "### Challenges and Limitations\n",
       "\n",
       "The rapid advancement and deployment of Large Language Models (LLMs) have brought significant benefits across various domains, yet they are not without their challenges and limitations. This section delves into the primary obstacles associated with scaling LLMs, focusing on computational costs, environmental impact, and the phenomenon of diminishing returns.\n",
       "\n",
       "#### Computational Costs\n",
       "\n",
       "One of the most pressing challenges in scaling LLMs is the substantial computational resources required for training and inference. As models grow in size and complexity, the demand for high-performance hardware, such as GPUs and TPUs, increases exponentially. This escalation in resource requirements translates to higher financial costs for organizations, particularly for those without access to substantial funding or infrastructure. Additionally, the time required for training these models can be prohibitive, often taking weeks or even months, which can delay deployment and innovation.\n",
       "\n",
       "#### Environmental Impact\n",
       "\n",
       "The environmental implications of training large-scale models cannot be overlooked. The energy consumption associated with the computational power needed for LLMs contributes to a significant carbon footprint. Research indicates that training a single large model can emit as much carbon as the lifetime emissions of several cars. As awareness of climate change and sustainability grows, the tech industry faces increasing scrutiny regarding the environmental impact of its operations. This has led to calls for more energy-efficient algorithms and practices, as well as a push towards utilizing renewable energy sources in data centers.\n",
       "\n",
       "#### Diminishing Returns\n",
       "\n",
       "Another critical limitation in scaling LLMs is the concept of diminishing returns. While increasing the size of a model can lead to improvements in performance, these gains often become marginal beyond a certain point. As models reach a certain scale, the incremental benefits of adding more parameters or training data may not justify the associated costs. This raises important questions about the efficiency of resources and the potential for overfitting, where a model becomes too tailored to its training data and loses generalizability. Researchers are increasingly exploring alternative approaches, such as fine-tuning smaller models or leveraging transfer learning, to achieve competitive performance without the need for massive scale.\n",
       "\n",
       "#### Conclusion\n",
       "\n",
       "In summary, while the scaling of LLMs presents exciting opportunities for advancements in artificial intelligence, it is accompanied by significant challenges and limitations. Addressing computational costs, mitigating environmental impact, and understanding the implications of diminishing returns are critical for the sustainable development of LLM technologies. As the field continues to evolve, it will be essential for researchers and practitioners to navigate these challenges thoughtfully, ensuring that the benefits of LLMs can be realized without compromising ethical and environmental standards.\n",
       "\n",
       "---\n",
       "\n",
       "### Future Directions in LLM Research\n",
       "\n",
       "As the field of large language models (LLMs) continues to evolve, several key trends and potential breakthroughs are anticipated that could significantly shape the landscape of AI research. This section explores the future directions in LLM scaling, the implications of scaling laws, and the broader context of AI advancements.\n",
       "\n",
       "#### 1. Enhanced Scaling Laws\n",
       "\n",
       "Recent research has underscored the importance of scaling laws in determining the performance of LLMs. Future investigations are likely to delve deeper into the mathematical underpinnings of these laws, potentially leading to more refined models that can predict performance improvements based on various scaling parameters, such as model size, dataset size, and training duration. This could enable researchers to optimize resource allocation and model architecture more effectively, paving the way for more efficient training processes.\n",
       "\n",
       "#### 2. Multimodal Models\n",
       "\n",
       "The integration of multimodal capabilities—where models can process and generate not just text but also images, audio, and video—is expected to be a significant trend in LLM research. Future LLMs may leverage advancements in computer vision and audio processing to create more holistic AI systems that can understand and generate content across different modalities. This could lead to breakthroughs in applications such as virtual assistants, content creation, and interactive AI systems that engage users in more dynamic ways.\n",
       "\n",
       "#### 3. Efficiency and Sustainability\n",
       "\n",
       "As LLMs grow in size and complexity, concerns regarding their environmental impact and computational efficiency are becoming increasingly prominent. Future research is likely to focus on developing more sustainable training methodologies, such as model distillation, pruning, and quantization techniques that reduce the resource footprint of LLMs without sacrificing performance. Innovations in hardware, such as specialized AI chips, may also play a crucial role in making LLM training more energy-efficient.\n",
       "\n",
       "#### 4. Ethical and Responsible AI\n",
       "\n",
       "The growing capabilities of LLMs raise important ethical considerations, including issues of bias, misinformation, and user privacy. Future research will need to address these challenges by developing frameworks for responsible AI deployment. This may involve creating more transparent models, implementing robust bias mitigation strategies, and establishing guidelines for the ethical use of LLMs in various applications. Collaborative efforts between researchers, policymakers, and industry stakeholders will be essential to navigate these complexities.\n",
       "\n",
       "#### 5. Democratization of AI\n",
       "\n",
       "As LLM technology matures, there is a strong potential for democratization, allowing a broader range of users and organizations to access and utilize these powerful tools. Future directions may include the development of user-friendly interfaces, open-source models, and community-driven initiatives that empower individuals and smaller entities to leverage LLMs for diverse applications. This shift could foster innovation and creativity across various sectors, from education to healthcare.\n",
       "\n",
       "#### 6. Interdisciplinary Collaboration\n",
       "\n",
       "The future of LLM research is likely to be characterized by increased interdisciplinary collaboration. As AI intersects with fields such as neuroscience, linguistics, and cognitive science, insights from these domains could inform the development of more sophisticated models that better mimic human-like understanding and reasoning. Such collaborations may lead to breakthroughs in natural language understanding and generation, enhancing the capabilities of LLMs.\n",
       "\n",
       "In conclusion, the future of LLM research is poised for transformative advancements driven by enhanced scaling laws, multimodal integration, efficiency improvements, ethical considerations, democratization, and interdisciplinary collaboration. As researchers continue to push the boundaries of what is possible with LLMs, the implications for society, industry, and technology will be profound, necessitating ongoing dialogue and exploration in this rapidly evolving field.\n",
       "\n",
       "---\n",
       "\n",
       "### Conclusion and Description\n",
       "\n",
       "In this report, we have explored the intricate dynamics of scaling laws associated with large language models (LLMs) and their implications for the future of artificial intelligence. Our analysis has revealed several key findings that underscore the significance of understanding these scaling laws as we advance in the field of AI.\n",
       "\n",
       "Firstly, we established that the performance of LLMs improves predictably with increases in model size, data volume, and computational resources. This relationship highlights the potential for continued enhancements in model capabilities as we invest in larger datasets and more powerful hardware. However, it also raises critical questions about the sustainability and accessibility of such resources, particularly in light of environmental concerns and the economic implications of scaling up AI infrastructure.\n",
       "\n",
       "Secondly, our findings indicate that while larger models tend to exhibit superior performance, they also come with diminishing returns. This suggests that there may be an optimal point of investment where the benefits of scaling begin to plateau. Understanding this threshold is crucial for researchers and organizations aiming to maximize the efficiency of their AI development efforts.\n",
       "\n",
       "Moreover, we identified that the scaling laws are not uniform across all tasks and domains. Certain applications may benefit more from increased model size than others, indicating the need for a nuanced approach to model development that considers the specific requirements of different use cases. This insight encourages a more strategic allocation of resources, focusing on areas where scaling can yield the most significant advancements.\n",
       "\n",
       "Lastly, the report emphasizes the importance of interdisciplinary collaboration in advancing our understanding of LLM scaling laws. Insights from fields such as cognitive science, linguistics, and ethics can inform the development of more robust and responsible AI systems. As we continue to push the boundaries of what LLMs can achieve, it is imperative that we do so with a comprehensive understanding of their capabilities and limitations.\n",
       "\n",
       "In conclusion, the exploration of LLM scaling laws is not merely an academic exercise; it is a foundational aspect of shaping the future of AI. By grasping these principles, researchers and practitioners can better navigate the complexities of model development, ensuring that advancements in AI are both innovative and responsible. As we look ahead, a concerted effort to understand and apply these scaling laws will be essential in unlocking the full potential of artificial intelligence."
      ],
      "text/plain": [
       "<IPython.core.display.Markdown object>"
      ]
     },
     "execution_count": 22,
     "metadata": {},
     "output_type": "execute_result"
    }
   ],
   "source": [
    "state = orchestrator_worker.invoke({\"topic\": \"Create a report on LLM scaling laws\"})\n",
    "from IPython.display import Markdown\n",
    "\n",
    "Markdown(state[\"final_report\"])"
   ]
  },
  {
   "cell_type": "markdown",
   "metadata": {},
   "source": [
    "- Cuándo utilizar esta arquitectura?\n",
    "\n",
    "- Algunos ejemplos donde puede ser útil:"
   ]
  },
  {
   "cell_type": "markdown",
   "metadata": {},
   "source": [
    "-----"
   ]
  },
  {
   "cell_type": "markdown",
   "metadata": {},
   "source": [
    "### Evaluator-optimizer\n",
    "\n",
    "![Evaluator-optimizer](./../images/Evaluator-optimizer.png)\n",
    "\n",
    "One LLM call generates a response while another provides evaluation and feedback in a loop.\n",
    "\n",
    "- E.g., when grading the quality of responses from a RAG system (for hallucinations)."
   ]
  },
  {
   "cell_type": "code",
   "execution_count": 23,
   "metadata": {},
   "outputs": [],
   "source": [
    "# Schema for structured output to use in evaluation\n",
    "class Feedback(BaseModel):\n",
    "    grade: Literal[\"funny\", \"not funny\"] = Field(\n",
    "        description=\"Decide if the joke is funny or not.\",\n",
    "    )\n",
    "    feedback: str = Field(\n",
    "        description=\"If the joke is not funny, provide feedback on how to improve it.\",\n",
    "    )\n",
    "\n",
    "# Augment the LLM with schema for structured output\n",
    "evaluator = llm.with_structured_output(Feedback)"
   ]
  },
  {
   "cell_type": "code",
   "execution_count": 24,
   "metadata": {},
   "outputs": [],
   "source": [
    "# Graph state\n",
    "class State(TypedDict):\n",
    "    joke: str\n",
    "    topic: str\n",
    "    feedback: str\n",
    "    funny_or_not: str"
   ]
  },
  {
   "cell_type": "code",
   "execution_count": 25,
   "metadata": {},
   "outputs": [],
   "source": [
    "# Nodes\n",
    "def llm_call_generator(state: State):\n",
    "    \"\"\"LLM generates a joke\"\"\"\n",
    "\n",
    "    if state.get(\"feedback\"):\n",
    "        msg = llm.invoke(\n",
    "            f\"Write a joke about {state['topic']} but take into account the feedback: {state['feedback']}\"\n",
    "        )\n",
    "    else:\n",
    "        msg = llm.invoke(f\"Write a joke about {state['topic']}\")\n",
    "    return {\"joke\": msg.content}\n",
    "\n",
    "def llm_call_evaluator(state: State):\n",
    "    \"\"\"LLM evaluates the joke\"\"\"\n",
    "\n",
    "    grade = evaluator.invoke(f\"Grade the joke {state['joke']}\")\n",
    "    return {\"funny_or_not\": grade.grade, \"feedback\": grade.feedback}\n",
    "\n",
    "# Conditional edge function to route back to joke generator or end based upon feedback from the evaluator\n",
    "def route_joke(state: State):\n",
    "    \"\"\"Route back to joke generator or end based upon feedback from the evaluator\"\"\"\n",
    "\n",
    "    if state[\"funny_or_not\"] == \"funny\":\n",
    "        return \"Accepted\"\n",
    "    elif state[\"funny_or_not\"] == \"not funny\":\n",
    "        return \"Rejected + Feedback\""
   ]
  },
  {
   "cell_type": "code",
   "execution_count": 26,
   "metadata": {},
   "outputs": [
    {
     "data": {
      "image/png": "[encoded data removed]",
      "text/plain": [
       "<IPython.core.display.Image object>"
      ]
     },
     "metadata": {},
     "output_type": "display_data"
    }
   ],
   "source": [
    "# Build workflow\n",
    "optimizer_builder = StateGraph(State)\n",
    "\n",
    "# Add the nodes\n",
    "optimizer_builder.add_node(\"llm_call_generator\", llm_call_generator)\n",
    "optimizer_builder.add_node(\"llm_call_evaluator\", llm_call_evaluator)\n",
    "\n",
    "# Add edges to connect nodes\n",
    "optimizer_builder.add_edge(START, \"llm_call_generator\")\n",
    "optimizer_builder.add_edge(\"llm_call_generator\", \"llm_call_evaluator\")\n",
    "optimizer_builder.add_conditional_edges(\n",
    "    \"llm_call_evaluator\",\n",
    "    route_joke,\n",
    "    {  # Name returned by route_joke : Name of next node to visit\n",
    "        \"Accepted\": END,\n",
    "        \"Rejected + Feedback\": \"llm_call_generator\",\n",
    "    },\n",
    ")\n",
    "\n",
    "# Compile the workflow\n",
    "optimizer_workflow = optimizer_builder.compile()\n",
    "\n",
    "# Show the workflow\n",
    "display(Image(optimizer_workflow.get_graph().draw_mermaid_png()))"
   ]
  },
  {
   "cell_type": "code",
   "execution_count": 27,
   "metadata": {},
   "outputs": [
    {
     "name": "stdout",
     "output_type": "stream",
     "text": [
      "Why was the cat sitting on the computer?\n",
      "\n",
      "Because it wanted to keep an eye on the mouse!\n"
     ]
    }
   ],
   "source": [
    "state = optimizer_workflow.invoke({\"topic\": \"Cats\"})\n",
    "print(state[\"joke\"])"
   ]
  },
  {
   "cell_type": "markdown",
   "metadata": {},
   "source": [
    "- Cuándo utilizar esta arquitectura?\n",
    "\n",
    "- Algunos ejemplos donde puede ser útil:"
   ]
  },
  {
   "cell_type": "markdown",
   "metadata": {},
   "source": [
    "-----"
   ]
  },
  {
   "cell_type": "markdown",
   "metadata": {},
   "source": [
    "### Pure agent\n",
    "\n",
    "![Pure agent](./../images/Pure_agent.png)\n",
    "\n",
    "Agents plan, take actions (via tool-calling), and respond to feedback (in a loop).\n",
    "\n",
    "- E.g., when solving open-ended problems that you cannot lay out as a workflow"
   ]
  },
  {
   "cell_type": "code",
   "execution_count": 28,
   "metadata": {},
   "outputs": [],
   "source": [
    "from langchain_core.tools import tool\n",
    "\n",
    "# Define tools\n",
    "@tool\n",
    "def multiply(a: int, b: int) -> int:\n",
    "    \"\"\"Multiply a and b.\n",
    "\n",
    "    Args:\n",
    "        a: first int\n",
    "        b: second int\n",
    "    \"\"\"\n",
    "    return a * b\n",
    "\n",
    "@tool\n",
    "def add(a: int, b: int) -> int:\n",
    "    \"\"\"Adds a and b.\n",
    "\n",
    "    Args:\n",
    "        a: first int\n",
    "        b: second int\n",
    "    \"\"\"\n",
    "    return a + b\n",
    "\n",
    "@tool\n",
    "def divide(a: int, b: int) -> float:\n",
    "    \"\"\"Divide a and b.\n",
    "\n",
    "    Args:\n",
    "        a: first int\n",
    "        b: second int\n",
    "    \"\"\"\n",
    "    return a / b\n",
    "\n",
    "# Augment the LLM with tools\n",
    "tools = [add, multiply, divide]\n",
    "tools_by_name = {tool.name: tool for tool in tools}\n",
    "llm_with_tools = llm.bind_tools(tools)"
   ]
  },
  {
   "cell_type": "code",
   "execution_count": 29,
   "metadata": {},
   "outputs": [],
   "source": [
    "from langgraph.graph import MessagesState\n",
    "from langchain_core.messages import ToolMessage\n",
    "\n",
    "# Nodes\n",
    "def llm_call(state: MessagesState):\n",
    "    \"\"\"LLM decides whether to call a tool or not\"\"\"\n",
    "\n",
    "    return {\n",
    "        \"messages\": [\n",
    "            llm_with_tools.invoke(\n",
    "                [\n",
    "                    SystemMessage(\n",
    "                        content=\"You are a helpful assistant tasked with performing arithmetic on a set of inputs.\"\n",
    "                    )\n",
    "                ]\n",
    "                + state[\"messages\"]\n",
    "            )\n",
    "        ]\n",
    "    }\n",
    "\n",
    "def tool_node(state: dict):\n",
    "    \"\"\"Performs the tool call\"\"\"\n",
    "\n",
    "    result = []\n",
    "    for tool_call in state[\"messages\"][-1].tool_calls:\n",
    "        tool = tools_by_name[tool_call[\"name\"]]\n",
    "        observation = tool.invoke(tool_call[\"args\"])\n",
    "        result.append(ToolMessage(content=observation, tool_call_id=tool_call[\"id\"]))\n",
    "    return {\"messages\": result}\n",
    "\n",
    "# Conditional edge function to route to the tool node or end based upon whether the LLM made a tool call\n",
    "def should_continue(state: MessagesState) -> Literal[\"environment\", END]:\n",
    "    \"\"\"Decide if we should continue the loop or stop based upon whether the LLM made a tool call\"\"\"\n",
    "\n",
    "    messages = state[\"messages\"]\n",
    "    last_message = messages[-1]\n",
    "    # If the LLM makes a tool call, then perform an action\n",
    "    if last_message.tool_calls:\n",
    "        return \"Action\"\n",
    "    # Otherwise, we stop (reply to the user)\n",
    "    return END"
   ]
  },
  {
   "cell_type": "code",
   "execution_count": 30,
   "metadata": {},
   "outputs": [
    {
     "data": {
      "image/png": "[encoded data removed]",
      "text/plain": [
       "<IPython.core.display.Image object>"
      ]
     },
     "metadata": {},
     "output_type": "display_data"
    }
   ],
   "source": [
    "# Build workflow\n",
    "agent_builder = StateGraph(MessagesState)\n",
    "\n",
    "# Add nodes\n",
    "agent_builder.add_node(\"llm_call\", llm_call)\n",
    "agent_builder.add_node(\"environment\", tool_node)\n",
    "\n",
    "# Add edges to connect nodes\n",
    "agent_builder.add_edge(START, \"llm_call\")\n",
    "agent_builder.add_conditional_edges(\n",
    "    \"llm_call\",\n",
    "    should_continue,\n",
    "    {\n",
    "        # Name returned by should_continue : Name of next node to visit\n",
    "        \"Action\": \"environment\",\n",
    "        END: END,\n",
    "    },\n",
    ")\n",
    "agent_builder.add_edge(\"environment\", \"llm_call\")\n",
    "\n",
    "# Compile the agent\n",
    "agent = agent_builder.compile()\n",
    "\n",
    "# Show the agent\n",
    "display(Image(agent.get_graph(xray=True).draw_mermaid_png()))"
   ]
  },
  {
   "cell_type": "code",
   "execution_count": 31,
   "metadata": {},
   "outputs": [
    {
     "name": "stdout",
     "output_type": "stream",
     "text": [
      "================================\u001b[1m Human Message \u001b[0m=================================\n",
      "\n",
      "Add 3 and 4. Then, take the output and multiple by 4.\n",
      "==================================\u001b[1m Ai Message \u001b[0m==================================\n",
      "Tool Calls:\n",
      "  add (call_kr0YoxRkIQn28o5Eb0PuQ1zk)\n",
      " Call ID: call_kr0YoxRkIQn28o5Eb0PuQ1zk\n",
      "  Args:\n",
      "    a: 3\n",
      "    b: 4\n",
      "=================================\u001b[1m Tool Message \u001b[0m=================================\n",
      "\n",
      "7\n",
      "==================================\u001b[1m Ai Message \u001b[0m==================================\n",
      "Tool Calls:\n",
      "  multiply (call_Cp9KlfT4MiCYtMKFnlI5BdOf)\n",
      " Call ID: call_Cp9KlfT4MiCYtMKFnlI5BdOf\n",
      "  Args:\n",
      "    a: 7\n",
      "    b: 4\n",
      "=================================\u001b[1m Tool Message \u001b[0m=================================\n",
      "\n",
      "28\n",
      "==================================\u001b[1m Ai Message \u001b[0m==================================\n",
      "\n",
      "The result of adding 3 and 4 is 7, and when you multiply that by 4, the final result is 28.\n"
     ]
    }
   ],
   "source": [
    "messages = [HumanMessage(content=\"Add 3 and 4. Then, take the output and multiple by 4.\")]\n",
    "messages = agent.invoke({\"messages\": messages})\n",
    "for m in messages[\"messages\"]:\n",
    "    m.pretty_print()"
   ]
  }
 ],
 "metadata": {
  "kernelspec": {
   "display_name": ".venv",
   "language": "python",
   "name": "python3"
  },
  "language_info": {
   "codemirror_mode": {
    "name": "ipython",
    "version": 3
   },
   "file_extension": ".py",
   "mimetype": "text/x-python",
   "name": "python",
   "nbconvert_exporter": "python",
   "pygments_lexer": "ipython3",
   "version": "3.11.10"
  }
 },
 "nbformat": 4,
 "nbformat_minor": 2
}
