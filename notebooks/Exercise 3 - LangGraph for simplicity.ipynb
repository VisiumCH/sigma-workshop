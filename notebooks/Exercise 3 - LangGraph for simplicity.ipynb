{
 "cells": [
  {
   "cell_type": "markdown",
   "metadata": {},
   "source": [
    "# Agentic fighters"
   ]
  },
  {
   "cell_type": "markdown",
   "metadata": {},
   "source": [
    "## Exercise 3 - LangGraph for simplicity"
   ]
  },
  {
   "cell_type": "markdown",
   "metadata": {},
   "source": [
    "### Graphs"
   ]
  },
  {
   "cell_type": "markdown",
   "metadata": {},
   "source": [
    "![Graphs](./../images/Graphs.png)"
   ]
  },
  {
   "cell_type": "markdown",
   "metadata": {},
   "source": [
    "Conceptos importantes:\n",
    "\n",
    "- nodos\n",
    "- relaciones\n",
    "- estado\n",
    "- persistencia"
   ]
  },
  {
   "cell_type": "code",
   "execution_count": 1,
   "metadata": {},
   "outputs": [],
   "source": [
    "import os"
   ]
  },
  {
   "cell_type": "code",
   "execution_count": 2,
   "metadata": {},
   "outputs": [],
   "source": [
    "if not os.environ.get(\"OPENAI_API_KEY\"):\n",
    "    raise ValueError(\"Please set OPENAI_API_KEY environment variable\")\n",
    "\n",
    "LLM_MODEL = \"gpt-4o-mini\"\n",
    "LLM_TEMPERATURE = 0"
   ]
  },
  {
   "cell_type": "code",
   "execution_count": 3,
   "metadata": {},
   "outputs": [],
   "source": [
    "from IPython.display import Markdown\n",
    "from typing import TypedDict, Annotated\n",
    "import operator\n",
    "\n",
    "from langchain_openai import ChatOpenAI\n",
    "from langchain_core.messages import AnyMessage, SystemMessage, HumanMessage, ToolMessage\n",
    "from langchain_community.tools.tavily_search import TavilySearchResults\n",
    "from langgraph.graph import StateGraph, END"
   ]
  },
  {
   "cell_type": "code",
   "execution_count": 4,
   "metadata": {},
   "outputs": [],
   "source": [
    "base_model = ChatOpenAI(model=LLM_MODEL, temperature=LLM_TEMPERATURE)"
   ]
  },
  {
   "cell_type": "markdown",
   "metadata": {},
   "source": [
    "#### Estado"
   ]
  },
  {
   "cell_type": "code",
   "execution_count": 5,
   "metadata": {},
   "outputs": [],
   "source": [
    "class AgentState(TypedDict):\n",
    "    messages: Annotated[list[AnyMessage], operator.add]"
   ]
  },
  {
   "cell_type": "markdown",
   "metadata": {},
   "source": [
    "#### Tools"
   ]
  },
  {
   "cell_type": "code",
   "execution_count": 6,
   "metadata": {},
   "outputs": [
    {
     "name": "stdout",
     "output_type": "stream",
     "text": [
      "<class 'langchain_community.tools.tavily_search.tool.TavilySearchResults'>\n",
      "tavily_search_results_json\n"
     ]
    }
   ],
   "source": [
    "if not os.environ.get(\"TAVILY_API_KEY\"):\n",
    "    raise ValueError(\"Please set OPENAI_API_KEY environment variable\")\n",
    "\n",
    "tool = TavilySearchResults(max_results=4)\n",
    "print(type(tool))\n",
    "print(tool.name)"
   ]
  },
  {
   "cell_type": "markdown",
   "metadata": {},
   "source": [
    "#### Workflow con grafo (nodos y relaciones)"
   ]
  },
  {
   "cell_type": "code",
   "execution_count": 7,
   "metadata": {},
   "outputs": [],
   "source": [
    "class Agent:\n",
    "    # General architecture of the graph\n",
    "    ####################################\n",
    "    def __init__(self, model, tools, system=\"\"):\n",
    "        self.system = system\n",
    "        self.tools = {t.name: t for t in tools}\n",
    "        self.model = model.bind_tools(tools)\n",
    "\n",
    "        graph = StateGraph(AgentState)\n",
    "\n",
    "        graph.add_node(\"llm\", self.call_openai)\n",
    "        graph.add_node(\"action\", self.take_action)\n",
    "\n",
    "        graph.add_conditional_edges(\n",
    "            \"llm\",\n",
    "            self.exists_action,\n",
    "            {True: \"action\", False: END}\n",
    "        )\n",
    "        graph.add_edge(\"action\", \"llm\")\n",
    "\n",
    "        graph.set_entry_point(\"llm\")\n",
    "\n",
    "        self.graph = graph.compile()\n",
    "\n",
    "\n",
    "    # Main nodes\n",
    "    #############\n",
    "    def call_openai(self, state: AgentState):\n",
    "        messages = state['messages']\n",
    "        if self.system:\n",
    "            messages = [SystemMessage(content=self.system)] + messages\n",
    "        message = self.model.invoke(messages)\n",
    "\n",
    "        return {'messages': [message]}\n",
    "\n",
    "    def take_action(self, state: AgentState):\n",
    "        tool_calls = state['messages'][-1].tool_calls\n",
    "        results = []\n",
    "        for t in tool_calls:\n",
    "            print(f\"Calling: {t}\")\n",
    "            if t['name'] not in self.tools:\n",
    "                print(\"\\n ....bad tool name....\")\n",
    "                result = \"bad tool name, retry\"\n",
    "            else:\n",
    "                result = self.tools[t['name']].invoke(t['args'])\n",
    "            results.append(ToolMessage(tool_call_id=t['id'], name=t['name'], content=str(result)))\n",
    "        print(\"Back to the model!\")\n",
    "\n",
    "        return {'messages': results}\n",
    "\n",
    "\n",
    "    # Conditional edges\n",
    "    ####################\n",
    "    def exists_action(self, state: AgentState):\n",
    "        result = state['messages'][-1]\n",
    "\n",
    "        return len(result.tool_calls) > 0"
   ]
  },
  {
   "cell_type": "code",
   "execution_count": 8,
   "metadata": {},
   "outputs": [],
   "source": [
    "prompt = \"\"\"Eres un asistente de búsqueda inteligente. Utiliza el motor de búsqueda para buscar información. \\\n",
    "Te está permitido hacer múltiples llamadas (ya sea juntas o secuenciales). \\\n",
    "Solo debes buscar información cuando estés seguro de lo que necesitas. \\\n",
    "Está permitido buscar información antes de hacer una pregunta para clarificar.\n",
    "\"\"\"\n",
    "\n",
    "abot = Agent(base_model, [tool], system=prompt)"
   ]
  },
  {
   "cell_type": "code",
   "execution_count": 9,
   "metadata": {},
   "outputs": [
    {
     "data": {
      "image/png": "[encoded data removed]",
      "text/plain": [
       "<IPython.core.display.Image object>"
      ]
     },
     "execution_count": 9,
     "metadata": {},
     "output_type": "execute_result"
    }
   ],
   "source": [
    "from IPython.display import Image\n",
    "\n",
    "Image(abot.graph.get_graph().draw_mermaid_png())"
   ]
  },
  {
   "cell_type": "code",
   "execution_count": 10,
   "metadata": {},
   "outputs": [
    {
     "name": "stdout",
     "output_type": "stream",
     "text": [
      "Calling: {'name': 'tavily_search_results_json', 'args': {'query': 'tiempo actual en Valencia'}, 'id': 'call_O84T4m2s8jh80MrgP1bdJCZK', 'type': 'tool_call'}\n",
      "Back to the model!\n"
     ]
    }
   ],
   "source": [
    "messages = [HumanMessage(content=\"¿Que tiempo hace en Valencia?\")]\n",
    "result = abot.graph.invoke({\"messages\": messages})"
   ]
  },
  {
   "cell_type": "code",
   "execution_count": 11,
   "metadata": {},
   "outputs": [
    {
     "data": {
      "text/plain": [
       "{'messages': [HumanMessage(content='¿Que tiempo hace en Valencia?', additional_kwargs={}, response_metadata={}),\n",
       "  AIMessage(content='', additional_kwargs={'tool_calls': [{'id': 'call_O84T4m2s8jh80MrgP1bdJCZK', 'function': {'arguments': '{\"query\":\"tiempo actual en Valencia\"}', 'name': 'tavily_search_results_json'}, 'type': 'function'}], 'refusal': None}, response_metadata={'token_usage': {'completion_tokens': 23, 'prompt_tokens': 147, 'total_tokens': 170, 'completion_tokens_details': {'accepted_prediction_tokens': 0, 'audio_tokens': 0, 'reasoning_tokens': 0, 'rejected_prediction_tokens': 0}, 'prompt_tokens_details': {'audio_tokens': 0, 'cached_tokens': 0}}, 'model_name': 'gpt-4o-mini-2024-07-18', 'system_fingerprint': 'fp_13eed4fce1', 'finish_reason': 'tool_calls', 'logprobs': None}, id='run-8309dd6e-ae88-4829-9c4d-622344da91a7-0', tool_calls=[{'name': 'tavily_search_results_json', 'args': {'query': 'tiempo actual en Valencia'}, 'id': 'call_O84T4m2s8jh80MrgP1bdJCZK', 'type': 'tool_call'}], usage_metadata={'input_tokens': 147, 'output_tokens': 23, 'total_tokens': 170, 'input_token_details': {'audio': 0, 'cache_read': 0}, 'output_token_details': {'audio': 0, 'reasoning': 0}}),\n",
       "  ToolMessage(content='[{\\'url\\': \\'https://es.weatherandradar.com/tiempo/valencia/6102628\\', \\'content\\': \\'Tiempo actual en València Com. Valenciana · España 17 de febrero, 01:38 p.m. Tiempo València\\\\xa0 02:00 p.m. 66 03:00 p.m. 65 04:00 p.m. 63 05:00 p.m. 62 06:00 p.m. 60 07:00 p.m. 57 08:00 p.m. 55 09:00 p.m. 54 10:00 p.m. 53 11:00 p.m. 52 12:00 p.m. 59 01:00 p.m. 60 02:00 p.m. 61 03:00 p.m. 62 04:00 p.m. 62 05:00 p.m. 61 06:00 p.m. 60 07:00 p.m. 57 08:00 p.m. 56 09:00 p.m. 55 10:00 p.m. 54 11:00 p.m. 53 12:00 p.m. 62 Hoy hasta la tarde-noche estará muy soleado. Radar del tiempo 06:40 p.m. índice UV: 3 Pronóstico del Índice UV para 6 días lun, 17/02, 01:00 p.m. 65.4° lun, 17/02, 01:00 p.m. 65.2° lun, 17/02, 01:00 p.m. 64.9°\\'}, {\\'url\\': \\'https://www.accuweather.com/es/es/valencia/310683/current-weather/310683\\', \\'content\\': \\'Tiempo actual en Valencia, Comunidad Valenciana, España | AccuWeather Valencia, Comunidad Valenciana ============================== 65°F Valencia Comunidad Valenciana 65° El tiempo en Valencia, Comunidad Valenciana Hoy WinterCast Rastreador de {stormName} locales Cada hora Diario Radar MinuteCast Mensual Calidad del aire Salud y actividades Hoy Cada hora Diario Radar MinuteCast Mensual Calidad del aire Salud y actividades RealFeel® 67° 67° 62° 11 mi/h RealFeel® 70° Índice UV máx.4 Moderado VientoNE 6 mi/h Ráfagas de viento17 mi/h RealFeel® 51° Ráfagas de viento13 mi/h 66° 51° 66° 43° 70° 44° Internacional Europa España Comunidad Valenciana Valencia Castellón de la Plana, Comunidad Valenciana Gandía, Comunidad Valenciana Torrente, Comunidad Valenciana \"AccuWeather\" y el diseño del sol son marcas comerciales registradas de AccuWeather, Inc. Todos los derechos reservados.\\'}, {\\'url\\': \\'https://www.tiempo.com/valencia/hoy\\', \\'content\\': \\'El tiempo El tiempo en Valencia hoy El Tiempo 1 - 7 días Gráfica del tiempo hoy en Valencia La previsión del tiempo para hoy en Valencia Hoy en Valencia, parcialmente nuboso esta mañana, con temperaturas alrededor de 14°C. Por la tarde, tendremos soleado y con temperaturas en torno a los 16°C. Durante la noche, habrá nubes y claros con temperaturas cercanas a los 13°C. 19° 10° Este 11 - 28 km/h 11°   11°   10°   16°   18°   16°   13°   12° Nubes y claros 12°   La tierra tiembla en el Mediterráneo: el geólogo Lorenzo Pasqualini analiza los últimos seísmos en Nápoles y Santorini Esta legumbre es más nutritiva que los garbanzos y las lentejas, pero casi nadie la come\\'}, {\\'url\\': \\'https://www.clima.com/espana/comunidad-valenciana/valencia\\', \\'content\\': \\'El tiempo en Valencia, Valencia hoy - Temperatura a 14 días | Clima Lluvia y nieve Mar del Plata Pelmorex España Clima en Valencia Luna Creciente Luna Creciente Luna Creciente 2 de FEB Domingo a las 08:00 Luna Creciente Luna Creciente Luna Creciente 7 de FEB Viernes a las 08:00 29 de ENE Hoy a las 14:00 Luna Creciente Luna Creciente Luna Creciente 2 de FEB Domingo a las 14:00 Luna Creciente Luna Creciente Luna Creciente 7 de FEB Viernes a las 14:00 9 de FEB Domingo a las 14:00 29 de ENE Hoy a las 20:00 Luna Creciente Luna Creciente Luna Creciente 2 de FEB Domingo a las 20:00 Luna Creciente Luna Creciente Luna Creciente 7 de FEB Viernes a las 20:00\\'}]', name='tavily_search_results_json', tool_call_id='call_O84T4m2s8jh80MrgP1bdJCZK'),\n",
       "  AIMessage(content='Actualmente, el tiempo en Valencia es el siguiente:\\n\\n- **Temperatura**: Alrededor de 18°C (65°F).\\n- **Condiciones**: Soleado durante la tarde, con algunas nubes y claros por la noche.\\n- **Viento**: Del noreste a 11 km/h (aproximadamente 6 mi/h).\\n- **Índice UV**: Moderado, con un máximo de 4.\\n\\nPara más detalles, puedes consultar [AccuWeather](https://www.accuweather.com/es/es/valencia/310683/current-weather/310683) o [Weather and Radar](https://es.weatherandradar.com/tiempo/valencia/6102628).', additional_kwargs={'refusal': None}, response_metadata={'token_usage': {'completion_tokens': 148, 'prompt_tokens': 1229, 'total_tokens': 1377, 'completion_tokens_details': {'accepted_prediction_tokens': 0, 'audio_tokens': 0, 'reasoning_tokens': 0, 'rejected_prediction_tokens': 0}, 'prompt_tokens_details': {'audio_tokens': 0, 'cached_tokens': 0}}, 'model_name': 'gpt-4o-mini-2024-07-18', 'system_fingerprint': 'fp_13eed4fce1', 'finish_reason': 'stop', 'logprobs': None}, id='run-5144c375-6dc9-490e-a318-013cbebfdc22-0', usage_metadata={'input_tokens': 1229, 'output_tokens': 148, 'total_tokens': 1377, 'input_token_details': {'audio': 0, 'cache_read': 0}, 'output_token_details': {'audio': 0, 'reasoning': 0}})]}"
      ]
     },
     "execution_count": 11,
     "metadata": {},
     "output_type": "execute_result"
    }
   ],
   "source": [
    "result"
   ]
  },
  {
   "cell_type": "code",
   "execution_count": 12,
   "metadata": {},
   "outputs": [
    {
     "data": {
      "text/plain": [
       "'Actualmente, el tiempo en Valencia es el siguiente:\\n\\n- **Temperatura**: Alrededor de 18°C (65°F).\\n- **Condiciones**: Soleado durante la tarde, con algunas nubes y claros por la noche.\\n- **Viento**: Del noreste a 11 km/h (aproximadamente 6 mi/h).\\n- **Índice UV**: Moderado, con un máximo de 4.\\n\\nPara más detalles, puedes consultar [AccuWeather](https://www.accuweather.com/es/es/valencia/310683/current-weather/310683) o [Weather and Radar](https://es.weatherandradar.com/tiempo/valencia/6102628).'"
      ]
     },
     "execution_count": 12,
     "metadata": {},
     "output_type": "execute_result"
    }
   ],
   "source": [
    "result['messages'][-1].content"
   ]
  },
  {
   "cell_type": "code",
   "execution_count": 13,
   "metadata": {},
   "outputs": [
    {
     "name": "stdout",
     "output_type": "stream",
     "text": [
      "Calling: {'name': 'tavily_search_results_json', 'args': {'query': 'current weather in Valencia'}, 'id': 'call_2dp3glQR9nl1BqTG4TImd6Tm', 'type': 'tool_call'}\n",
      "Calling: {'name': 'tavily_search_results_json', 'args': {'query': 'current weather in Madrid'}, 'id': 'call_z1C5MHCrX6aPIEdDkvzr7GL0', 'type': 'tool_call'}\n",
      "Back to the model!\n"
     ]
    }
   ],
   "source": [
    "messages = [HumanMessage(content=\"What is the weather in Valencia and Madrid?\")]\n",
    "result = abot.graph.invoke({\"messages\": messages})"
   ]
  },
  {
   "cell_type": "code",
   "execution_count": 14,
   "metadata": {},
   "outputs": [
    {
     "data": {
      "text/markdown": [
       "### Current Weather\n",
       "\n",
       "#### Valencia\n",
       "- **Temperature**: 14.3°C (57.7°F)\n",
       "- **Condition**: Partly cloudy\n",
       "- **Wind**: 6.0 mph (9.7 kph) from the North\n",
       "- **Humidity**: 82%\n",
       "- **Pressure**: 1016 mb\n",
       "- **Visibility**: 9 km\n",
       "\n",
       "#### Madrid\n",
       "- **Temperature**: 10.4°C (50.7°F)\n",
       "- **Condition**: Clear\n",
       "- **Wind**: 2.2 mph (3.6 kph) from the Southeast\n",
       "- **Humidity**: 76%\n",
       "- **Pressure**: 1015 mb\n",
       "- **Visibility**: 10 km\n",
       "\n",
       "For more detailed forecasts, you can check the following links:\n",
       "- [Valencia Weather](https://www.weatherapi.com/)\n",
       "- [Madrid Weather](https://www.weatherapi.com/)"
      ],
      "text/plain": [
       "<IPython.core.display.Markdown object>"
      ]
     },
     "execution_count": 14,
     "metadata": {},
     "output_type": "execute_result"
    }
   ],
   "source": [
    "Markdown(result['messages'][-1].content)"
   ]
  },
  {
   "cell_type": "code",
   "execution_count": 15,
   "metadata": {},
   "outputs": [
    {
     "data": {
      "text/plain": [
       "'\\nquery = \"¿Qué equipo va último en la liga de fútbol española de este año? ¿De qué ciudad es ese equipo? ¿Cuál es la provincia que está al sur de dicha ciudad? Responde a todas las preguntas.\"\\nmessages = [HumanMessage(content=query)]\\n\\nabot = Agent(base_model, [tool], system=prompt)\\nresult = abot.graph.invoke({\"messages\": messages})\\n'"
      ]
     },
     "execution_count": 15,
     "metadata": {},
     "output_type": "execute_result"
    }
   ],
   "source": [
    "\"\"\"\n",
    "query = \"¿Qué equipo va último en la liga de fútbol española de este año? ¿De qué ciudad es ese equipo? ¿Cuál es la provincia que está al sur de dicha ciudad? Responde a todas las preguntas.\"\n",
    "messages = [HumanMessage(content=query)]\n",
    "\n",
    "abot = Agent(base_model, [tool], system=prompt)\n",
    "result = abot.graph.invoke({\"messages\": messages})\n",
    "\"\"\""
   ]
  },
  {
   "cell_type": "code",
   "execution_count": 16,
   "metadata": {},
   "outputs": [
    {
     "name": "stdout",
     "output_type": "stream",
     "text": [
      "Calling: {'name': 'tavily_search_results_json', 'args': {'query': 'Super Bowl 2024 winner'}, 'id': 'call_b5ETNrxyy5pALUBJlcIrFinm', 'type': 'tool_call'}\n",
      "Back to the model!\n",
      "Calling: {'name': 'tavily_search_results_json', 'args': {'query': 'Kansas City Chiefs headquarters location'}, 'id': 'call_IGM3sxCq0meTPU9NOxvEQoXA', 'type': 'tool_call'}\n",
      "Calling: {'name': 'tavily_search_results_json', 'args': {'query': 'GDP of Missouri'}, 'id': 'call_MhOFxpYvyE98DeEkXRvuR43y', 'type': 'tool_call'}\n",
      "Back to the model!\n"
     ]
    }
   ],
   "source": [
    "query = \"Who won the super bowl in 2024? In what state is the winning team headquarters located? \\\n",
    "What is the GDP of that state? Answer each question.\"\n",
    "messages = [HumanMessage(content=query)]\n",
    "\n",
    "abot = Agent(base_model, [tool], system=prompt)\n",
    "result = abot.graph.invoke({\"messages\": messages})"
   ]
  },
  {
   "cell_type": "code",
   "execution_count": 17,
   "metadata": {},
   "outputs": [
    {
     "name": "stdout",
     "output_type": "stream",
     "text": [
      "1. **Who won the Super Bowl in 2024?**\n",
      "   - The Kansas City Chiefs won the Super Bowl in 2024, defeating the San Francisco 49ers with a score of 25-22 in overtime.\n",
      "\n",
      "2. **In what state is the winning team's headquarters located?**\n",
      "   - The Kansas City Chiefs are headquartered in Missouri.\n",
      "\n",
      "3. **What is the GDP of that state?**\n",
      "   - As of 2023, the GDP of Missouri is approximately $348.5 billion.\n"
     ]
    }
   ],
   "source": [
    "print(result['messages'][-1].content)"
   ]
  }
 ],
 "metadata": {
  "kernelspec": {
   "display_name": ".venv",
   "language": "python",
   "name": "python3"
  },
  "language_info": {
   "codemirror_mode": {
    "name": "ipython",
    "version": 3
   },
   "file_extension": ".py",
   "mimetype": "text/x-python",
   "name": "python",
   "nbconvert_exporter": "python",
   "pygments_lexer": "ipython3",
   "version": "3.11.10"
  }
 },
 "nbformat": 4,
 "nbformat_minor": 2
}
